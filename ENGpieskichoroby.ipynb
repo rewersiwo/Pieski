{
  "nbformat": 4,
  "nbformat_minor": 0,
  "metadata": {
    "colab": {
      "provenance": [],
      "authorship_tag": "ABX9TyOiC94Hja0pRL56Fmx9ByFd",
      "include_colab_link": true
    },
    "kernelspec": {
      "name": "python3",
      "display_name": "Python 3"
    },
    "language_info": {
      "name": "python"
    }
  },
  "cells": [
    {
      "cell_type": "markdown",
      "metadata": {
        "id": "view-in-github",
        "colab_type": "text"
      },
      "source": [
        "<a href=\"https://colab.research.google.com/github/rewersiwo/Pieski/blob/main/ENGpieskichoroby.ipynb\" target=\"_parent\"><img src=\"https://colab.research.google.com/assets/colab-badge.svg\" alt=\"Open In Colab\"/></a>"
      ]
    },
    {
      "cell_type": "code",
      "source": [
        "# A dictionary that maps breed names to their corresponding diseases\n",
        "breed_diseases = {\n",
        "    \"Labrador Retriever\": [\"Exercise-induced collapse\", \"Hip dysplasia\"],\n",
        "    \"German Shepherd\": [\"Degenerative myelopathy\", \"Hip dysplasia\"],\n",
        "    \"Golden Retriever\": [\"Cancer\", \"Heart disease\"],\n",
        "    \"Bulldog\": [\"Breathing problems\", \"Hip dysplasia\"],\n",
        "    \"Beagle\": [\"Epilepsy\", \"Hip dysplasia\"],\n",
        "    \"Poodle\": [\"Hip dysplasia\", \"Epilepsy\"],\n",
        "    \"Rottweiler\": [\"Hip dysplasia\", \"Heart disease\"],\n",
        "    \"Yorkshire Terrier\": [\"Patellar luxation\", \"Tracheal collapse\"],\n",
        "    \"Boxer\": [\"Cancer\", \"Heart disease\"],\n",
        "    \"Dachshund\": [\"Intervertebral disc disease\", \"Patellar luxation\"],\n",
        "    \"German Shorthaired Pointer\": [\"Hip dysplasia\", \"Heart disease\"],\n",
        "    \"Doberman Pinscher\": [\"Dilated cardiomyopathy\", \"Von Willebrand's disease\"],\n",
        "    \"Shih Tzu\": [\"Breathing problems\", \"Patellar luxation\"],\n",
        "    \"Chihuahua\": [\"Patellar luxation\", \"Hypoglycemia\"],\n",
        "    \"Miniature Schnauzer\": [\"Pancreatitis\", \"Comedone syndrome\"],\n",
        "    \"Saint Bernard\": [\"Hip dysplasia\", \"Heart disease\"],\n",
        "    \"West Highland White Terrier\": [\"Craniomandibular osteopathy\", \"Hip dysplasia\"],\n",
        "    \"French Bulldog\": [\"Breathing problems\", \"Hip dysplasia\"],\n",
        "    \"Cavalier King Charles Spaniel\": [\"Mitral valve disease\", \"Syringomyelia\"],\n",
        "    \"Bernese Mountain Dog\": [\"Histiocytosis\", \"Hip dysplasia\"]\n",
        "}\n",
        "\n",
        "# A list of popular breeds to choose from\n",
        "breed_choices = list(breed_diseases.keys())\n",
        "\n",
        "# Prompt the user to select a breed\n",
        "breed_name = input(\"Please select a breed from the following list:\\n\" + \"\\n\".join(breed_choices) + \"\\n\")\n",
        "\n",
        "# Print the diseases associated with the selected breed\n",
        "print(\"\\nTypical diseases for the \" + breed_name + \" breed:\")\n",
        "for disease in breed_diseases[breed_name]:\n",
        "    print(\"- \" + disease)"
      ],
      "metadata": {
        "colab": {
          "base_uri": "https://localhost:8080/"
        },
        "id": "7RNI2duVbCFr",
        "outputId": "0489f3dc-9822-4a1a-c0a5-a9a6e985fec3"
      },
      "execution_count": 10,
      "outputs": [
        {
          "output_type": "stream",
          "name": "stdout",
          "text": [
            "Please select a breed from the following list:\n",
            "Labrador Retriever\n",
            "German Shepherd\n",
            "Golden Retriever\n",
            "Bulldog\n",
            "Beagle\n",
            "Poodle\n",
            "Rottweiler\n",
            "Yorkshire Terrier\n",
            "Boxer\n",
            "Dachshund\n",
            "German Shorthaired Pointer\n",
            "Doberman Pinscher\n",
            "Shih Tzu\n",
            "Chihuahua\n",
            "Miniature Schnauzer\n",
            "Saint Bernard\n",
            "West Highland White Terrier\n",
            "French Bulldog\n",
            "Cavalier King Charles Spaniel\n",
            "Bernese Mountain Dog\n",
            "Bulldog\n",
            "\n",
            "Typical diseases for the Bulldog breed:\n",
            "- Breathing problems\n",
            "- Hip dysplasia\n"
          ]
        }
      ]
    }
  ]
}