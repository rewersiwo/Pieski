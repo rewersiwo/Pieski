{
  "nbformat": 4,
  "nbformat_minor": 0,
  "metadata": {
    "colab": {
      "provenance": [],
      "authorship_tag": "ABX9TyNiL+3cHfEpfU0k2tmwRsUr",
      "include_colab_link": true
    },
    "kernelspec": {
      "name": "python3",
      "display_name": "Python 3"
    },
    "language_info": {
      "name": "python"
    }
  },
  "cells": [
    {
      "cell_type": "markdown",
      "metadata": {
        "id": "view-in-github",
        "colab_type": "text"
      },
      "source": [
        "<a href=\"https://colab.research.google.com/github/rewersiwo/Pieski/blob/main/Wyb%C3%B3r_rasy.ipynb\" target=\"_parent\"><img src=\"https://colab.research.google.com/assets/colab-badge.svg\" alt=\"Open In Colab\"/></a>"
      ]
    },
    {
      "cell_type": "code",
      "source": [
        "def dobierz_rase():\n",
        "    print(\"Witaj! Pomogę Ci dobrać rasę psa.\")\n",
        "\n",
        "    wielkosc = input(\"Jaką wielkość psa preferujesz? (mały/średni/duży): \").lower()\n",
        "    dlugosc_siersci = input(\"Preferujesz krótką, średnią czy długą sierść? \").lower()\n",
        "    usposobienie = input(\"Jakie usposobienie powinien mieć pies? (spokojny/energiczny): \").lower()\n",
        "\n",
        "    # Lista ras pasujących do różnych kombinacji\n",
        "    kombinacje_ras = {\n",
        "        ('mały', 'krótka', 'spokojny'): ['Chihuahua', 'Shih Tzu'],\n",
        "        ('mały', 'krótka', 'energiczny'): ['Jack Russell Terrier'],\n",
        "        ('mały', 'długa', 'spokojny'): ['Cavalier King Charles Spaniel'],\n",
        "        ('mały', 'długa', 'energiczny'): [],\n",
        "        ('średni', 'krótka', 'spokojny'): ['Buldog Francuski'],\n",
        "        ('średni', 'krótka', 'energiczny'): [],\n",
        "        ('średni', 'długa', 'spokojny'): ['Golden Retriever', 'Sznaucer'],\n",
        "        ('średni', 'długa', 'energiczny'): [],\n",
        "        ('duży', 'krótka', 'spokojny'): ['Buldog'],\n",
        "        ('duży', 'krótka', 'energiczny'): ['Doberman', 'Pudel'],\n",
        "        ('duży', 'długa', 'spokojny'): ['Bernardyn'],\n",
        "        ('duży', 'długa', 'energiczny'): ['Pudel', 'Owczarek Niemiecki'],\n",
        "    }\n",
        "\n",
        "    # Sprawdzenie, czy kombinacja istnieje w słowniku\n",
        "    if (wielkosc, dlugosc_siersci, usposobienie) in kombinacje_ras:\n",
        "        rasys = kombinacje_ras[(wielkosc, dlugosc_siersci, usposobienie)]\n",
        "        if rasys:\n",
        "            print(\"Może to być rasa:\", ', '.join(rasys))\n",
        "        else:\n",
        "            print(\"Niestety, nie znaleziono pasującej rasy dla danej kombinacji.\")\n",
        "    else:\n",
        "        print(\"Niestety, nie znaleziono pasującej rasy. Spróbuj podać inne kryteria.\")\n",
        "\n",
        "# Uruchomienie programu\n",
        "dobierz_rase()"
      ],
      "metadata": {
        "colab": {
          "base_uri": "https://localhost:8080/"
        },
        "id": "DfRbT_feYqK_",
        "outputId": "bff57468-6d94-4d3c-ef4c-5cf5c75900fe"
      },
      "execution_count": 14,
      "outputs": [
        {
          "output_type": "stream",
          "name": "stdout",
          "text": [
            "Witaj! Pomogę Ci dobrać rasę psa.\n",
            "Jaką wielkość psa preferujesz? (mały/średni/duży): mały\n",
            "Preferujesz krótką, średnią czy długą sierść? krótka\n",
            "Jakie usposobienie powinien mieć pies? (spokojny/energiczny): energiczny\n",
            "Może to być rasa: Jack Russell Terrier\n"
          ]
        }
      ]
    }
  ]
}